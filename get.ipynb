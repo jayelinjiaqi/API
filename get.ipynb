{
 "cells": [
  {
   "cell_type": "markdown",
   "metadata": {},
   "source": [
    "### V1 - GET Request with parameters\n",
    "Documentation: https://openbrewerydb.org/documentation\n"
   ]
  },
  {
   "cell_type": "code",
   "execution_count": null,
   "metadata": {},
   "outputs": [],
   "source": [
    "import requests\n",
    "import json\n",
    "\n",
    "# Define query parameters for filtering breweries\n",
    "params = {'by_city': 'san diego'}  # Filter breweries by city name (replace with desired city)\n",
    "\n",
    "# Specify the Open Brewery Database API endpoint for retrieving breweries\n",
    "url = \"https://api.openbrewerydb.org/breweries\"\n",
    "\n",
    "try:\n",
    "    # Make a GET request to the Open Brewery Database API with the specified query parameters\n",
    "    # URL constructed with the provided parameters: \n",
    "    # https://api.openbrewerydb.org/breweries?by_city=san%20diego\n",
    "\n",
    "    response = requests.get(url, params=params)\n",
    "    response.raise_for_status()  # Raise an exception for non-200 status codes (errors)\n",
    "\n",
    "    # Load the JSON data from the successful response\n",
    "    data = json.loads(response.content)\n",
    "\n",
    "    # Print the retrieved data (filtered breweries based on the city parameter)\n",
    "    print(json.dumps(data, indent=2))\n",
    "\n",
    "except requests.exceptions.RequestException as e:\n",
    "    # Handle errors during the request process (e.g., network issues, API errors)\n",
    "    print(f\"Error: An error occurred while fetching data: {e}\")\n"
   ]
  },
  {
   "cell_type": "markdown",
   "metadata": {},
   "source": [
    "### V2 - GET Request Pokemon\n",
    "\n",
    "Documentation: https://pokeapi.co/\n"
   ]
  },
  {
   "cell_type": "code",
   "execution_count": null,
   "metadata": {},
   "outputs": [],
   "source": [
    "import requests\n",
    "import json\n",
    "\n",
    "# Specify the desired Pokemon name\n",
    "pokemon_name = \"bulbasaur\"\n",
    "\n",
    "# Construct the PokeAPI URL for the chosen Pokemon\n",
    "url = f\"https://pokeapi.co/api/v2/pokemon/{pokemon_name}\"\n",
    "\n",
    "try:\n",
    "    # Make a GET request to the PokeAPI\n",
    "    response = requests.get(url)\n",
    "    response.raise_for_status()  # Raise an exception for non-200 status codes\n",
    "\n",
    "    # Load the JSON data from the response using json.loads\n",
    "    data = json.loads(response.content)\n",
    "\n",
    "    # Access and print specific Pokemon information (e.g., name, abilities)\n",
    "    # Explore the PokeAPI documentation for available data structures: https://pokeapi.co/\n",
    "    print(f\"Pokemon Name: {data['name']}\")\n",
    "    print(f\"Abilities:\")\n",
    "    for ability in data[\"abilities\"]:\n",
    "        print(f\"\\t- {ability['ability']['name']}\")\n",
    "\n",
    "except requests.exceptions.RequestException as e:\n",
    "    # Handle errors during the request process\n",
    "    print(f\"Error: An error occurred while fetching Pokemon data: {e}\")"
   ]
  },
  {
   "cell_type": "markdown",
   "metadata": {},
   "source": [
    "### V2 - GET Request Countries\n",
    "\n",
    "Documentation: https://restcountries.com\n"
   ]
  },
  {
   "cell_type": "code",
   "execution_count": null,
   "metadata": {},
   "outputs": [],
   "source": [
    "import requests\n",
    "import json\n",
    "\n",
    "# Specify the REST Countries API endpoint to retrieve all countries\n",
    "url = \"https://restcountries.com/v3.1/all\"\n",
    "\n",
    "try:\n",
    "    # Make a GET request to the API, disabling SSL verification (use with caution)\n",
    "    response = requests.get(url, verify=False)\n",
    "    response.raise_for_status()  # Raise an exception for non-200 status codes\n",
    "\n",
    "    # Load the JSON data from the response\n",
    "    data = json.loads(response.content)\n",
    "\n",
    "    # Print the retrieved data (all countries information)\n",
    "    print(json.dumps(data, indent=2))\n",
    "\n",
    "except requests.exceptions.RequestException as e:\n",
    "    # Handle errors during the request process\n",
    "    print(f\"Error: An error occurred while fetching data: {e}\")\n"
   ]
  }
 ],
 "metadata": {
  "kernelspec": {
   "display_name": "base",
   "language": "python",
   "name": "python3"
  },
  "language_info": {
   "codemirror_mode": {
    "name": "ipython",
    "version": 3
   },
   "file_extension": ".py",
   "mimetype": "text/x-python",
   "name": "python",
   "nbconvert_exporter": "python",
   "pygments_lexer": "ipython3",
   "version": "3.11.7"
  }
 },
 "nbformat": 4,
 "nbformat_minor": 2
}
